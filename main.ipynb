{
 "cells": [
  {
   "cell_type": "code",
   "execution_count": 1,
   "id": "bd10aef9",
   "metadata": {},
   "outputs": [],
   "source": [
    "import pylebanon as pyleb"
   ]
  },
  {
   "cell_type": "code",
   "execution_count": 2,
   "id": "a77d26db",
   "metadata": {},
   "outputs": [],
   "source": [
    "lebanon = pyleb.Lebanon()"
   ]
  },
  {
   "cell_type": "code",
   "execution_count": null,
   "id": "162d2e9c",
   "metadata": {},
   "outputs": [
    {
     "name": "stdout",
     "output_type": "stream",
     "text": [
      "🇱🇧\n"
     ]
    },
    {
     "data": {
      "text/plain": [
       "dict_keys(['name', 'altSpellings', 'area', 'borders', 'callingCodes', 'capital', 'capital_latlng', 'currencies', 'demonym', 'flag', 'geoJSON', 'ISO', 'states', 'languages', 'latlng', 'nativeName', 'population', 'timezones', 'tld', 'translations', 'continent', 'government', 'independence', 'dish', 'location', 'density', 'symbol', 'religion', 'expectancy', 'temperature', 'wiki'])"
      ]
     },
     "execution_count": 21,
     "metadata": {},
     "output_type": "execute_result"
    }
   ],
   "source": [
    "print(lebanon.get_flag())\n",
    "\n",
    "lebanon.get_json().keys()"
   ]
  },
  {
   "cell_type": "code",
   "execution_count": 40,
   "id": "a01d9d4a",
   "metadata": {},
   "outputs": [
    {
     "name": "stdout",
     "output_type": "stream",
     "text": [
      "[{'id': 65939, 'name': 'Caza de Aakkar', 'latitude': '34.53333000', 'longitude': '36.16667000'}]\n",
      "[{'id': 65933, 'name': 'Baalbek', 'latitude': '34.00583000', 'longitude': '36.21806000'}, {'id': 65941, 'name': 'Caza de Baalbek', 'latitude': '34.09822000', 'longitude': '36.27157000'}]\n",
      "[{'id': 65936, 'name': 'Beirut', 'latitude': '33.89332000', 'longitude': '35.50157000'}, {'id': 65951, 'name': 'Ra’s Bayrūt', 'latitude': '33.90000000', 'longitude': '35.48333000'}]\n",
      "[{'id': 65930, 'name': 'Aanjar', 'latitude': '33.72778000', 'longitude': '35.93111000'}, {'id': 65955, 'name': 'Zahlé', 'latitude': '33.84675000', 'longitude': '35.90203000'}]\n",
      "[{'id': 65932, 'name': 'Baabda', 'latitude': '33.83389000', 'longitude': '35.54417000'}, {'id': 65937, 'name': 'Bhamdoun', 'latitude': '33.79500000', 'longitude': '35.65111000'}, {'id': 65938, 'name': 'Bhamdoûn el Mhatta', 'latitude': '33.80861000', 'longitude': '35.65972000'}, {'id': 65940, 'name': 'Caza de Baabda', 'latitude': '33.84592000', 'longitude': '35.66791000'}, {'id': 65947, 'name': 'Jbaïl', 'latitude': '34.12111000', 'longitude': '35.64806000'}, {'id': 65948, 'name': 'Jounieh', 'latitude': '33.98083000', 'longitude': '35.61778000'}]\n",
      "[{'id': 65931, 'name': 'Ain Ebel', 'latitude': '33.11023000', 'longitude': '35.40251000'}, {'id': 65942, 'name': 'Caza de Bent Jbaïl', 'latitude': '33.15964000', 'longitude': '35.41137000'}, {'id': 65943, 'name': 'Caza de Nabatîyé', 'latitude': '33.39435000', 'longitude': '35.44483000'}, {'id': 65946, 'name': 'Habboûch', 'latitude': '33.40729000', 'longitude': '35.48169000'}, {'id': 65949, 'name': 'Marjayoûn', 'latitude': '33.36028000', 'longitude': '35.59111000'}, {'id': 65950, 'name': 'Nabatîyé et Tahta', 'latitude': '33.37889000', 'longitude': '35.48389000'}]\n",
      "[{'id': 65934, 'name': 'Batroûn', 'latitude': '34.25528000', 'longitude': '35.65806000'}, {'id': 65935, 'name': 'Bcharré', 'latitude': '34.25083000', 'longitude': '36.01056000'}, {'id': 65953, 'name': 'Tripoli', 'latitude': '34.43352000', 'longitude': '35.84415000'}]\n",
      "[{'id': 65944, 'name': 'En Nâqoûra', 'latitude': '33.11806000', 'longitude': '35.13972000'}, {'id': 65945, 'name': 'Ghazieh', 'latitude': '33.51750000', 'longitude': '35.36889000'}, {'id': 65952, 'name': 'Sidon', 'latitude': '33.55751000', 'longitude': '35.37148000'}, {'id': 65954, 'name': 'Tyre', 'latitude': '33.27333000', 'longitude': '35.19389000'}]\n"
     ]
    }
   ],
   "source": [
    "for state in lebanon.get_json()[\"states\"]:\n",
    "    print(state[\"cities\"])"
   ]
  },
  {
   "cell_type": "code",
   "execution_count": 58,
   "id": "e52a8299",
   "metadata": {},
   "outputs": [
    {
     "data": {
      "text/plain": [
       "['Akkar Governorate',\n",
       " 'Baalbek-Hermel Governorate',\n",
       " 'Beirut Governorate',\n",
       " 'Beqaa Governorate',\n",
       " 'Mount Lebanon Governorate',\n",
       " 'Nabatieh Governorate',\n",
       " 'North Governorate',\n",
       " 'South Governorate']"
      ]
     },
     "execution_count": 58,
     "metadata": {},
     "output_type": "execute_result"
    }
   ],
   "source": [
    "states = [s[\"name\"] for s in lebanon.get_json()[\"states\"]]\n",
    "states"
   ]
  },
  {
   "cell_type": "code",
   "execution_count": 64,
   "id": "b147ef3a",
   "metadata": {},
   "outputs": [
    {
     "name": "stdout",
     "output_type": "stream",
     "text": [
      "[{'id': 65936, 'name': 'Beirut', 'latitude': '33.89332000', 'longitude': '35.50157000'}, {'id': 65951, 'name': 'Ra’s Bayrūt', 'latitude': '33.90000000', 'longitude': '35.48333000'}]\n"
     ]
    },
    {
     "data": {
      "text/plain": [
       "[]"
      ]
     },
     "execution_count": 64,
     "metadata": {},
     "output_type": "execute_result"
    }
   ],
   "source": [
    "cities = []\n",
    "for state in lebanon.get_json()[\"states\"]:\n",
    "    if state[\"name\"] == \"Beirut Governorate\":\n",
    "        print(state[\"cities\"])\n",
    "cities"
   ]
  }
 ],
 "metadata": {
  "kernelspec": {
   "display_name": "lebvenv",
   "language": "python",
   "name": "python3"
  },
  "language_info": {
   "codemirror_mode": {
    "name": "ipython",
    "version": 3
   },
   "file_extension": ".py",
   "mimetype": "text/x-python",
   "name": "python",
   "nbconvert_exporter": "python",
   "pygments_lexer": "ipython3",
   "version": "3.10.12"
  }
 },
 "nbformat": 4,
 "nbformat_minor": 5
}
